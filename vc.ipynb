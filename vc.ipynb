{
 "cells": [
  {
   "cell_type": "markdown",
   "metadata": {},
   "source": [
    "## 判断股东中是否有风险投资"
   ]
  },
  {
   "cell_type": "code",
   "execution_count": 1,
   "metadata": {},
   "outputs": [
    {
     "name": "stderr",
     "output_type": "stream",
     "text": [
      "<>:3: SyntaxWarning: invalid escape sequence '\\H'\n",
      "<>:3: SyntaxWarning: invalid escape sequence '\\H'\n",
      "C:\\Users\\Barry\\AppData\\Local\\Temp\\ipykernel_13756\\1890151940.py:3: SyntaxWarning: invalid escape sequence '\\H'\n",
      "  df = pd.read_csv('E:\\Huawei cloud\\华为云盘\\文档\\毕业论文\\论文数据\\十大股东文件162229693(仅供上海财经大学使用)\\HLD_Shareholders.csv')\n"
     ]
    },
    {
     "data": {
      "text/html": [
       "<div>\n",
       "<style scoped>\n",
       "    .dataframe tbody tr th:only-of-type {\n",
       "        vertical-align: middle;\n",
       "    }\n",
       "\n",
       "    .dataframe tbody tr th {\n",
       "        vertical-align: top;\n",
       "    }\n",
       "\n",
       "    .dataframe thead th {\n",
       "        text-align: right;\n",
       "    }\n",
       "</style>\n",
       "<table border=\"1\" class=\"dataframe\">\n",
       "  <thead>\n",
       "    <tr style=\"text-align: right;\">\n",
       "      <th></th>\n",
       "      <th>证券代码</th>\n",
       "      <th>统计截止日期</th>\n",
       "      <th>股东名称</th>\n",
       "      <th>持股排名</th>\n",
       "      <th>股东性质</th>\n",
       "      <th>股东类型</th>\n",
       "    </tr>\n",
       "  </thead>\n",
       "  <tbody>\n",
       "    <tr>\n",
       "      <th>0</th>\n",
       "      <td>000001</td>\n",
       "      <td>2003-12-31</td>\n",
       "      <td>深圳市投资管理公司</td>\n",
       "      <td>1</td>\n",
       "      <td>国有法人</td>\n",
       "      <td>其他机构</td>\n",
       "    </tr>\n",
       "    <tr>\n",
       "      <th>1</th>\n",
       "      <td>000001</td>\n",
       "      <td>2003-12-31</td>\n",
       "      <td>深圳国际信托投资公司</td>\n",
       "      <td>2</td>\n",
       "      <td>国有法人</td>\n",
       "      <td>信托公司</td>\n",
       "    </tr>\n",
       "    <tr>\n",
       "      <th>2</th>\n",
       "      <td>000001</td>\n",
       "      <td>2003-12-31</td>\n",
       "      <td>深圳市社会保险公司</td>\n",
       "      <td>3</td>\n",
       "      <td>境内非国有法人</td>\n",
       "      <td>保险公司</td>\n",
       "    </tr>\n",
       "    <tr>\n",
       "      <th>3</th>\n",
       "      <td>000001</td>\n",
       "      <td>2003-12-31</td>\n",
       "      <td>深圳中电投资股份有限公司</td>\n",
       "      <td>4</td>\n",
       "      <td>国有法人</td>\n",
       "      <td>风险投资公司</td>\n",
       "    </tr>\n",
       "    <tr>\n",
       "      <th>4</th>\n",
       "      <td>000001</td>\n",
       "      <td>2003-12-31</td>\n",
       "      <td>海通证券股份有限公司</td>\n",
       "      <td>5</td>\n",
       "      <td>境内非国有法人</td>\n",
       "      <td>证券公司</td>\n",
       "    </tr>\n",
       "  </tbody>\n",
       "</table>\n",
       "</div>"
      ],
      "text/plain": [
       "     证券代码      统计截止日期          股东名称  持股排名     股东性质    股东类型\n",
       "0  000001  2003-12-31     深圳市投资管理公司     1     国有法人    其他机构\n",
       "1  000001  2003-12-31    深圳国际信托投资公司     2     国有法人    信托公司\n",
       "2  000001  2003-12-31     深圳市社会保险公司     3  境内非国有法人    保险公司\n",
       "3  000001  2003-12-31  深圳中电投资股份有限公司     4     国有法人  风险投资公司\n",
       "4  000001  2003-12-31    海通证券股份有限公司     5  境内非国有法人    证券公司"
      ]
     },
     "execution_count": 1,
     "metadata": {},
     "output_type": "execute_result"
    }
   ],
   "source": [
    "#导入数据\n",
    "import pandas as pd\n",
    "df = pd.read_csv('E:\\Huawei cloud\\华为云盘\\文档\\毕业论文\\论文数据\\十大股东文件162229693(仅供上海财经大学使用)\\HLD_Shareholders.csv')\n",
    "df[\"证券代码\"] = df[\"证券代码\"].astype(str).str.zfill(6)  # 确保是6位数字，不足补零\n",
    "df.head()"
   ]
  },
  {
   "cell_type": "code",
   "execution_count": 2,
   "metadata": {},
   "outputs": [
    {
     "data": {
      "text/plain": [
       "证券代码      0\n",
       "统计截止日期    0\n",
       "股东名称      0\n",
       "持股排名      0\n",
       "股东性质      0\n",
       "股东类型      3\n",
       "dtype: int64"
      ]
     },
     "execution_count": 2,
     "metadata": {},
     "output_type": "execute_result"
    }
   ],
   "source": [
    "df.isnull().sum()"
   ]
  },
  {
   "cell_type": "code",
   "execution_count": 3,
   "metadata": {},
   "outputs": [
    {
     "data": {
      "text/html": [
       "<div>\n",
       "<style scoped>\n",
       "    .dataframe tbody tr th:only-of-type {\n",
       "        vertical-align: middle;\n",
       "    }\n",
       "\n",
       "    .dataframe tbody tr th {\n",
       "        vertical-align: top;\n",
       "    }\n",
       "\n",
       "    .dataframe thead th {\n",
       "        text-align: right;\n",
       "    }\n",
       "</style>\n",
       "<table border=\"1\" class=\"dataframe\">\n",
       "  <thead>\n",
       "    <tr style=\"text-align: right;\">\n",
       "      <th></th>\n",
       "      <th>证券代码</th>\n",
       "      <th>统计截止日期</th>\n",
       "      <th>vc</th>\n",
       "    </tr>\n",
       "  </thead>\n",
       "  <tbody>\n",
       "    <tr>\n",
       "      <th>0</th>\n",
       "      <td>000001</td>\n",
       "      <td>2003-12-31</td>\n",
       "      <td>1</td>\n",
       "    </tr>\n",
       "    <tr>\n",
       "      <th>1</th>\n",
       "      <td>000001</td>\n",
       "      <td>2004-12-31</td>\n",
       "      <td>1</td>\n",
       "    </tr>\n",
       "    <tr>\n",
       "      <th>2</th>\n",
       "      <td>000001</td>\n",
       "      <td>2005-12-31</td>\n",
       "      <td>1</td>\n",
       "    </tr>\n",
       "    <tr>\n",
       "      <th>3</th>\n",
       "      <td>000001</td>\n",
       "      <td>2006-12-31</td>\n",
       "      <td>1</td>\n",
       "    </tr>\n",
       "    <tr>\n",
       "      <th>4</th>\n",
       "      <td>000001</td>\n",
       "      <td>2007-12-31</td>\n",
       "      <td>1</td>\n",
       "    </tr>\n",
       "  </tbody>\n",
       "</table>\n",
       "</div>"
      ],
      "text/plain": [
       "     证券代码      统计截止日期  vc\n",
       "0  000001  2003-12-31   1\n",
       "1  000001  2004-12-31   1\n",
       "2  000001  2005-12-31   1\n",
       "3  000001  2006-12-31   1\n",
       "4  000001  2007-12-31   1"
      ]
     },
     "execution_count": 3,
     "metadata": {},
     "output_type": "execute_result"
    }
   ],
   "source": [
    "df['股东类型'] = df['股东类型'].fillna('')\n",
    "df[\"is_vc\"] = df[\"股东类型\"].str.contains(\"风险投资公司\").astype(int)\n",
    "\n",
    "\n",
    "# 按公司-年份分组，聚合数据\n",
    "result = df.groupby([\"证券代码\", \"统计截止日期\"]).agg(\n",
    "    # 判断是否存在VC股东\n",
    "    vc=(\"is_vc\", \"max\")  # 若存在至少一个VC，则vc=1\n",
    ").reset_index()\n",
    "\n",
    "result.head()"
   ]
  },
  {
   "cell_type": "code",
   "execution_count": 4,
   "metadata": {},
   "outputs": [
    {
     "name": "stderr",
     "output_type": "stream",
     "text": [
      "<>:1: SyntaxWarning: invalid escape sequence '\\H'\n",
      "<>:1: SyntaxWarning: invalid escape sequence '\\H'\n",
      "C:\\Users\\Barry\\AppData\\Local\\Temp\\ipykernel_13756\\195422413.py:1: SyntaxWarning: invalid escape sequence '\\H'\n",
      "  result.to_excel('E:\\Huawei cloud\\华为云盘\\文档\\毕业论文\\论文数据\\十大股东文件162229693(仅供上海财经大学使用)\\VC.xlsx', index=False)\n"
     ]
    }
   ],
   "source": [
    "result.to_excel('E:\\Huawei cloud\\华为云盘\\文档\\毕业论文\\论文数据\\十大股东文件162229693(仅供上海财经大学使用)\\VC.xlsx', index=False)"
   ]
  }
 ],
 "metadata": {
  "kernelspec": {
   "display_name": "base",
   "language": "python",
   "name": "python3"
  },
  "language_info": {
   "codemirror_mode": {
    "name": "ipython",
    "version": 3
   },
   "file_extension": ".py",
   "mimetype": "text/x-python",
   "name": "python",
   "nbconvert_exporter": "python",
   "pygments_lexer": "ipython3",
   "version": "3.12.3"
  }
 },
 "nbformat": 4,
 "nbformat_minor": 2
}
